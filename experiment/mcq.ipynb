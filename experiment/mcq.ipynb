{
 "cells": [
  {
   "cell_type": "code",
   "execution_count": 6,
   "metadata": {},
   "outputs": [],
   "source": [
    "import os\n",
    "import json\n",
    "import pandas as pd\n",
    "import traceback"
   ]
  },
  {
   "cell_type": "code",
   "execution_count": 20,
   "metadata": {},
   "outputs": [
    {
     "data": {
      "text/plain": [
       "True"
      ]
     },
     "execution_count": 20,
     "metadata": {},
     "output_type": "execute_result"
    }
   ],
   "source": [
    "from langchain.chat_models import ChatOpenAI\n",
    "from dotenv import load_dotenv\n",
    "load_dotenv()  #take envirmonment variavle from .env"
   ]
  },
  {
   "cell_type": "code",
   "execution_count": 21,
   "metadata": {},
   "outputs": [],
   "source": [
    "KEY=os.getenv(\"OPENAI_API_KEY\")"
   ]
  },
  {
   "cell_type": "code",
   "execution_count": 22,
   "metadata": {},
   "outputs": [
    {
     "name": "stderr",
     "output_type": "stream",
     "text": [
      "d:\\generator\\env\\lib\\site-packages\\langchain_core\\_api\\deprecation.py:139: LangChainDeprecationWarning: The class `ChatOpenAI` was deprecated in LangChain 0.0.10 and will be removed in 0.3.0. An updated version of the class exists in the langchain-openai package and should be used instead. To use it run `pip install -U langchain-openai` and import as `from langchain_openai import ChatOpenAI`.\n",
      "  warn_deprecated(\n"
     ]
    }
   ],
   "source": [
    "llm=ChatOpenAI(openai_api_key=KEY,model_name='gpt-3.5-turbo',temperature=0.5)"
   ]
  },
  {
   "cell_type": "code",
   "execution_count": 23,
   "metadata": {},
   "outputs": [],
   "source": [
    "from langchain.llms import OpenAI\n",
    "from langchain.prompts import PromptTemplate\n",
    "from langchain.chains import LLMChain\n",
    "from langchain.chains import SequentialChain\n",
    "from langchain.callbacks import get_openai_callback\n",
    "import PyPDF2\n"
   ]
  },
  {
   "cell_type": "code",
   "execution_count": 27,
   "metadata": {},
   "outputs": [],
   "source": [
    "RESPONSE_JSON={\n",
    "    \"1\": {\n",
    "    \"mcq\": \"Multiple Choice Question\",\n",
    "    \"options\":{\n",
    "        \"a\": \"choice here\",\n",
    "        \"b\": \"choice here\",\n",
    "        \"c\": \"choice here\",\n",
    "        \"d\": \"choice here\",\n",
    "    },\n",
    "    \"correct\": \"correct answer\",\n",
    "},\n",
    "    \"2\": {\n",
    "    \"mcq\": \"Multiple Choice Question\",\n",
    "    \"options\":{\n",
    "        \"a\": \"choice here\",\n",
    "        \"b\": \"choice here\",\n",
    "        \"c\": \"choice here\",\n",
    "        \"d\": \"choice here\",\n",
    "    },\n",
    "    \"correct\": \"correct answer\",\n",
    "},\n",
    "    \"3\": {\n",
    "    \"mcq\": \"Multiple Choice Question\",\n",
    "    \"options\":{\n",
    "        \"a\": \"choice here\",\n",
    "        \"b\": \"choice here\",\n",
    "        \"c\": \"choice here\",\n",
    "        \"d\": \"choice here\",\n",
    "    },\n",
    "    \"correct\": \"correct answer\",\n",
    "},\n",
    "    \"4\": {\n",
    "    \"mcq\": \"Multiple Choice Question\",\n",
    "    \"options\":{\n",
    "        \"a\": \"choice here\",\n",
    "        \"b\": \"choice here\",\n",
    "        \"c\": \"choice here\",\n",
    "        \"d\": \"choice here\",\n",
    "    },\n",
    "    \"correct\": \"correct answer\",\n",
    "}\n",
    "    }"
   ]
  },
  {
   "cell_type": "code",
   "execution_count": 28,
   "metadata": {},
   "outputs": [],
   "source": [
    "TEMPLATE=\"\"\"\n",
    "Text: {test}\n",
    "You are an expert MCQ maker, Given the above text, it is your job to \\ \n",
    "create a quiz of {number} multiple choice question for {subject} students in {tone}.\n",
    "Make sure the question are not repeated and check all the questions to be confirming the text as well.\n",
    "Make sure the format your response like RESPONSE_JSON below and use it as a guide. \\ \n",
    "ensure to make {number} MCQs\n",
    "### RESPONSE_JSON\n",
    "{response_json}\n",
    "\n",
    "\"\"\""
   ]
  },
  {
   "cell_type": "code",
   "execution_count": 29,
   "metadata": {},
   "outputs": [],
   "source": [
    "quiz_generation=PromptTemplate(\n",
    "    input_variables=[\"text\",\"number\",\"subject\",\"tone\",\"response_json\"],\n",
    "    template=TEMPLATE\n",
    ")"
   ]
  },
  {
   "cell_type": "code",
   "execution_count": 31,
   "metadata": {},
   "outputs": [
    {
     "ename": "NameError",
     "evalue": "name 'quiz_generation_prompt' is not defined",
     "output_type": "error",
     "traceback": [
      "\u001b[1;31m---------------------------------------------------------------------------\u001b[0m",
      "\u001b[1;31mNameError\u001b[0m                                 Traceback (most recent call last)",
      "Cell \u001b[1;32mIn[31], line 1\u001b[0m\n\u001b[1;32m----> 1\u001b[0m quiz_chian\u001b[38;5;241m=\u001b[39mLLMChain(llm\u001b[38;5;241m=\u001b[39mllm, prompt\u001b[38;5;241m=\u001b[39m\u001b[43mquiz_generation_prompt\u001b[49m, output_key\u001b[38;5;241m=\u001b[39m\u001b[38;5;124m\"\u001b[39m\u001b[38;5;124mquiz\u001b[39m\u001b[38;5;124m\"\u001b[39m, verbose\u001b[38;5;241m=\u001b[39m\u001b[38;5;28;01mTrue\u001b[39;00m)\n",
      "\u001b[1;31mNameError\u001b[0m: name 'quiz_generation_prompt' is not defined"
     ]
    }
   ],
   "source": [
    "quiz_chian=LLMChain(llm=llm, prompt=quiz_generation_prompt, output_key=\"quiz\", verbose=True)"
   ]
  },
  {
   "cell_type": "code",
   "execution_count": null,
   "metadata": {},
   "outputs": [],
   "source": []
  }
 ],
 "metadata": {
  "kernelspec": {
   "display_name": "Python 3",
   "language": "python",
   "name": "python3"
  },
  "language_info": {
   "codemirror_mode": {
    "name": "ipython",
    "version": 3
   },
   "file_extension": ".py",
   "mimetype": "text/x-python",
   "name": "python",
   "nbconvert_exporter": "python",
   "pygments_lexer": "ipython3",
   "version": "3.8.19"
  }
 },
 "nbformat": 4,
 "nbformat_minor": 2
}
